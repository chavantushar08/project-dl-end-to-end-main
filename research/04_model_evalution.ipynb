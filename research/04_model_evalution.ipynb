{
 "cells": [
  {
   "cell_type": "code",
   "execution_count": 4,
   "id": "40bdf973",
   "metadata": {},
   "outputs": [],
   "source": [
    "import os "
   ]
  },
  {
   "cell_type": "code",
   "execution_count": 5,
   "id": "026500bb",
   "metadata": {},
   "outputs": [
    {
     "data": {
      "text/plain": [
       "'d:\\\\MLops Project\\\\project-dl-end-to-end-main\\\\research'"
      ]
     },
     "execution_count": 5,
     "metadata": {},
     "output_type": "execute_result"
    }
   ],
   "source": [
    "%pwd"
   ]
  },
  {
   "cell_type": "code",
   "execution_count": 6,
   "id": "80fd869e",
   "metadata": {},
   "outputs": [],
   "source": [
    "os.chdir(\"../\")"
   ]
  },
  {
   "cell_type": "code",
   "execution_count": 7,
   "id": "e197b628",
   "metadata": {},
   "outputs": [
    {
     "data": {
      "text/plain": [
       "'d:\\\\MLops Project\\\\project-dl-end-to-end-main'"
      ]
     },
     "execution_count": 7,
     "metadata": {},
     "output_type": "execute_result"
    }
   ],
   "source": [
    "%pwd"
   ]
  },
  {
   "cell_type": "code",
   "execution_count": 8,
   "id": "b747dba0",
   "metadata": {},
   "outputs": [],
   "source": [
    "# mlflow  >> to track different experiment "
   ]
  },
  {
   "cell_type": "code",
   "execution_count": 8,
   "id": "bdd1e521",
   "metadata": {},
   "outputs": [
    {
     "name": "stdout",
     "output_type": "stream",
     "text": [
      "Requirement already satisfied: mlflow in c:\\users\\tushar\\anaconda3\\envs\\kidney\\lib\\site-packages (2.11.0)\n",
      "Requirement already satisfied: click<9,>=7.0 in c:\\users\\tushar\\anaconda3\\envs\\kidney\\lib\\site-packages (from mlflow) (8.1.8)\n",
      "Requirement already satisfied: cloudpickle<4 in c:\\users\\tushar\\anaconda3\\envs\\kidney\\lib\\site-packages (from mlflow) (3.1.1)\n",
      "Requirement already satisfied: entrypoints<1 in c:\\users\\tushar\\anaconda3\\envs\\kidney\\lib\\site-packages (from mlflow) (0.4)\n",
      "Requirement already satisfied: gitpython<4,>=3.1.9 in c:\\users\\tushar\\anaconda3\\envs\\kidney\\lib\\site-packages (from mlflow) (3.1.44)\n",
      "Requirement already satisfied: pyyaml<7,>=5.1 in c:\\users\\tushar\\anaconda3\\envs\\kidney\\lib\\site-packages (from mlflow) (6.0.2)\n",
      "Requirement already satisfied: protobuf<5,>=3.12.0 in c:\\users\\tushar\\anaconda3\\envs\\kidney\\lib\\site-packages (from mlflow) (4.25.7)\n",
      "Requirement already satisfied: pytz<2025 in c:\\users\\tushar\\anaconda3\\envs\\kidney\\lib\\site-packages (from mlflow) (2024.2)\n",
      "Requirement already satisfied: requests<3,>=2.17.3 in c:\\users\\tushar\\anaconda3\\envs\\kidney\\lib\\site-packages (from mlflow) (2.32.3)\n",
      "Requirement already satisfied: packaging<24 in c:\\users\\tushar\\anaconda3\\envs\\kidney\\lib\\site-packages (from mlflow) (23.2)\n",
      "Requirement already satisfied: importlib-metadata!=4.7.0,<8,>=3.7.0 in c:\\users\\tushar\\anaconda3\\envs\\kidney\\lib\\site-packages (from mlflow) (7.2.1)\n",
      "Requirement already satisfied: sqlparse<1,>=0.4.0 in c:\\users\\tushar\\anaconda3\\envs\\kidney\\lib\\site-packages (from mlflow) (0.5.3)\n",
      "Requirement already satisfied: alembic!=1.10.0,<2 in c:\\users\\tushar\\anaconda3\\envs\\kidney\\lib\\site-packages (from mlflow) (1.15.2)\n",
      "Requirement already satisfied: docker<8,>=4.0.0 in c:\\users\\tushar\\anaconda3\\envs\\kidney\\lib\\site-packages (from mlflow) (7.1.0)\n",
      "Requirement already satisfied: Flask<4 in c:\\users\\tushar\\anaconda3\\envs\\kidney\\lib\\site-packages (from mlflow) (3.1.0)\n",
      "Requirement already satisfied: numpy<2 in c:\\users\\tushar\\anaconda3\\envs\\kidney\\lib\\site-packages (from mlflow) (1.26.4)\n",
      "Requirement already satisfied: scipy<2 in c:\\users\\tushar\\anaconda3\\envs\\kidney\\lib\\site-packages (from mlflow) (1.15.2)\n",
      "Requirement already satisfied: pandas<3 in c:\\users\\tushar\\anaconda3\\envs\\kidney\\lib\\site-packages (from mlflow) (2.2.3)\n",
      "Requirement already satisfied: querystring-parser<2 in c:\\users\\tushar\\anaconda3\\envs\\kidney\\lib\\site-packages (from mlflow) (1.2.4)\n",
      "Requirement already satisfied: sqlalchemy<3,>=1.4.0 in c:\\users\\tushar\\anaconda3\\envs\\kidney\\lib\\site-packages (from mlflow) (2.0.40)\n",
      "Requirement already satisfied: scikit-learn<2 in c:\\users\\tushar\\anaconda3\\envs\\kidney\\lib\\site-packages (from mlflow) (1.6.1)\n",
      "Requirement already satisfied: pyarrow<16,>=4.0.0 in c:\\users\\tushar\\anaconda3\\envs\\kidney\\lib\\site-packages (from mlflow) (14.0.0)\n",
      "Requirement already satisfied: markdown<4,>=3.3 in c:\\users\\tushar\\anaconda3\\envs\\kidney\\lib\\site-packages (from mlflow) (3.8)\n",
      "Requirement already satisfied: matplotlib<4 in c:\\users\\tushar\\anaconda3\\envs\\kidney\\lib\\site-packages (from mlflow) (3.10.1)\n",
      "Requirement already satisfied: graphene<4 in c:\\users\\tushar\\anaconda3\\envs\\kidney\\lib\\site-packages (from mlflow) (3.4.3)\n",
      "Requirement already satisfied: waitress<4 in c:\\users\\tushar\\anaconda3\\envs\\kidney\\lib\\site-packages (from mlflow) (3.0.2)\n",
      "Requirement already satisfied: Jinja2<4,>=3.0 in c:\\users\\tushar\\anaconda3\\envs\\kidney\\lib\\site-packages (from mlflow) (3.1.6)\n",
      "Requirement already satisfied: Mako in c:\\users\\tushar\\anaconda3\\envs\\kidney\\lib\\site-packages (from alembic!=1.10.0,<2->mlflow) (1.3.10)\n",
      "Requirement already satisfied: typing-extensions>=4.12 in c:\\users\\tushar\\anaconda3\\envs\\kidney\\lib\\site-packages (from alembic!=1.10.0,<2->mlflow) (4.13.2)\n",
      "Requirement already satisfied: colorama in c:\\users\\tushar\\anaconda3\\envs\\kidney\\lib\\site-packages (from click<9,>=7.0->mlflow) (0.4.6)\n",
      "Requirement already satisfied: pywin32>=304 in c:\\users\\tushar\\anaconda3\\envs\\kidney\\lib\\site-packages (from docker<8,>=4.0.0->mlflow) (310)\n",
      "Requirement already satisfied: urllib3>=1.26.0 in c:\\users\\tushar\\anaconda3\\envs\\kidney\\lib\\site-packages (from docker<8,>=4.0.0->mlflow) (2.4.0)\n",
      "Requirement already satisfied: Werkzeug>=3.1 in c:\\users\\tushar\\anaconda3\\envs\\kidney\\lib\\site-packages (from Flask<4->mlflow) (3.1.3)\n",
      "Requirement already satisfied: itsdangerous>=2.2 in c:\\users\\tushar\\anaconda3\\envs\\kidney\\lib\\site-packages (from Flask<4->mlflow) (2.2.0)\n",
      "Requirement already satisfied: blinker>=1.9 in c:\\users\\tushar\\anaconda3\\envs\\kidney\\lib\\site-packages (from Flask<4->mlflow) (1.9.0)\n",
      "Requirement already satisfied: gitdb<5,>=4.0.1 in c:\\users\\tushar\\anaconda3\\envs\\kidney\\lib\\site-packages (from gitpython<4,>=3.1.9->mlflow) (4.0.12)\n",
      "Requirement already satisfied: smmap<6,>=3.0.1 in c:\\users\\tushar\\anaconda3\\envs\\kidney\\lib\\site-packages (from gitdb<5,>=4.0.1->gitpython<4,>=3.1.9->mlflow) (5.0.2)\n",
      "Requirement already satisfied: graphql-core<3.3,>=3.1 in c:\\users\\tushar\\anaconda3\\envs\\kidney\\lib\\site-packages (from graphene<4->mlflow) (3.2.6)\n",
      "Requirement already satisfied: graphql-relay<3.3,>=3.1 in c:\\users\\tushar\\anaconda3\\envs\\kidney\\lib\\site-packages (from graphene<4->mlflow) (3.2.0)\n",
      "Requirement already satisfied: python-dateutil<3,>=2.7.0 in c:\\users\\tushar\\anaconda3\\envs\\kidney\\lib\\site-packages (from graphene<4->mlflow) (2.9.0.post0)\n",
      "Requirement already satisfied: zipp>=0.5 in c:\\users\\tushar\\anaconda3\\envs\\kidney\\lib\\site-packages (from importlib-metadata!=4.7.0,<8,>=3.7.0->mlflow) (3.21.0)\n",
      "Requirement already satisfied: MarkupSafe>=2.0 in c:\\users\\tushar\\anaconda3\\envs\\kidney\\lib\\site-packages (from Jinja2<4,>=3.0->mlflow) (3.0.2)\n",
      "Requirement already satisfied: contourpy>=1.0.1 in c:\\users\\tushar\\anaconda3\\envs\\kidney\\lib\\site-packages (from matplotlib<4->mlflow) (1.3.2)\n",
      "Requirement already satisfied: cycler>=0.10 in c:\\users\\tushar\\anaconda3\\envs\\kidney\\lib\\site-packages (from matplotlib<4->mlflow) (0.12.1)\n",
      "Requirement already satisfied: fonttools>=4.22.0 in c:\\users\\tushar\\anaconda3\\envs\\kidney\\lib\\site-packages (from matplotlib<4->mlflow) (4.57.0)\n",
      "Requirement already satisfied: kiwisolver>=1.3.1 in c:\\users\\tushar\\anaconda3\\envs\\kidney\\lib\\site-packages (from matplotlib<4->mlflow) (1.4.8)\n",
      "Requirement already satisfied: pillow>=8 in c:\\users\\tushar\\anaconda3\\envs\\kidney\\lib\\site-packages (from matplotlib<4->mlflow) (11.2.1)\n",
      "Requirement already satisfied: pyparsing>=2.3.1 in c:\\users\\tushar\\anaconda3\\envs\\kidney\\lib\\site-packages (from matplotlib<4->mlflow) (3.2.3)\n",
      "Requirement already satisfied: tzdata>=2022.7 in c:\\users\\tushar\\anaconda3\\envs\\kidney\\lib\\site-packages (from pandas<3->mlflow) (2025.2)\n",
      "Requirement already satisfied: six>=1.5 in c:\\users\\tushar\\anaconda3\\envs\\kidney\\lib\\site-packages (from python-dateutil<3,>=2.7.0->graphene<4->mlflow) (1.17.0)\n",
      "Requirement already satisfied: charset-normalizer<4,>=2 in c:\\users\\tushar\\anaconda3\\envs\\kidney\\lib\\site-packages (from requests<3,>=2.17.3->mlflow) (3.4.2)\n",
      "Requirement already satisfied: idna<4,>=2.5 in c:\\users\\tushar\\anaconda3\\envs\\kidney\\lib\\site-packages (from requests<3,>=2.17.3->mlflow) (3.10)\n",
      "Requirement already satisfied: certifi>=2017.4.17 in c:\\users\\tushar\\anaconda3\\envs\\kidney\\lib\\site-packages (from requests<3,>=2.17.3->mlflow) (2025.4.26)\n",
      "Requirement already satisfied: joblib>=1.2.0 in c:\\users\\tushar\\anaconda3\\envs\\kidney\\lib\\site-packages (from scikit-learn<2->mlflow) (1.5.0)\n",
      "Requirement already satisfied: threadpoolctl>=3.1.0 in c:\\users\\tushar\\anaconda3\\envs\\kidney\\lib\\site-packages (from scikit-learn<2->mlflow) (3.6.0)\n",
      "Requirement already satisfied: greenlet>=1 in c:\\users\\tushar\\anaconda3\\envs\\kidney\\lib\\site-packages (from sqlalchemy<3,>=1.4.0->mlflow) (3.2.1)\n"
     ]
    }
   ],
   "source": [
    "!pip install mlflow"
   ]
  },
  {
   "cell_type": "code",
   "execution_count": 9,
   "id": "9163be29",
   "metadata": {},
   "outputs": [],
   "source": [
    "os.environ[\"MLFLOW_TRACKING_URI\"]=\"https://dagshub.com/chavantushar08/project-dl-end-to-end-main.mlflow\"\n",
    "os.environ[\"MLFLOW_TRACKING_USERNAME\"]=\"chavantushar08\"\n",
    "os.environ[\"MLFLOW_TRACKING_PASSWORD\"]=\"1e9dc24a1031ae97b82b275e4a7b06a6fc4af344\""
   ]
  },
  {
   "cell_type": "code",
   "execution_count": 10,
   "id": "0fc461a4",
   "metadata": {},
   "outputs": [],
   "source": [
    "import os \n",
    "import mlflow \n",
    "\n",
    "#set mlflow tracking url \n",
    "mlflow.set_tracking_uri(\"https://dagshub.com/chavantushar08/project-dl-end-to-end-main.mlflow\") \n",
    "\n",
    "# set your dagshhub credentials (mlflow uses html basic auth) \n",
    "os.environ[\"MLFLOW_TRACKING_USERNAME\"] = \"chavantushar08\"\n",
    "os.environ[\"MLFLOW_TRACKING_PASSWORD\"] = \"1e9dc24a1031ae97b82b275e4a7b06a6fc4af344\"\n"
   ]
  },
  {
   "cell_type": "code",
   "execution_count": 11,
   "id": "5840f7bd",
   "metadata": {},
   "outputs": [
    {
     "name": "stderr",
     "output_type": "stream",
     "text": [
      "WARNING:absl:Compiled the loaded model, but the compiled metrics have yet to be built. `model.compile_metrics` will be empty until you train or evaluate the model.\n"
     ]
    }
   ],
   "source": [
    "import tensorflow as tf \n",
    "model = tf.keras.models.load_model(\"artifacts/training/model.h5\")"
   ]
  },
  {
   "cell_type": "code",
   "execution_count": null,
   "id": "a67e0edd",
   "metadata": {},
   "outputs": [],
   "source": []
  },
  {
   "cell_type": "code",
   "execution_count": 12,
   "id": "77d08382",
   "metadata": {},
   "outputs": [],
   "source": [
    "# entity "
   ]
  },
  {
   "cell_type": "code",
   "execution_count": 13,
   "id": "55d9be68",
   "metadata": {},
   "outputs": [],
   "source": [
    "from dataclasses import dataclass\n",
    "from pathlib import Path\n",
    "\n",
    "@dataclass(frozen=True)\n",
    "class EvaluationConfig:\n",
    "    path_of_model: Path\n",
    "    training_data: Path\n",
    "    all_params: dict\n",
    "    mlflow_uri: str\n",
    "    params_image_size: list\n",
    "    params_batch_size: int"
   ]
  },
  {
   "cell_type": "code",
   "execution_count": 14,
   "id": "6301f0a4",
   "metadata": {},
   "outputs": [],
   "source": [
    "# configuration manager "
   ]
  },
  {
   "cell_type": "code",
   "execution_count": 15,
   "id": "1b03a2fd",
   "metadata": {},
   "outputs": [],
   "source": [
    "from src.cnnClassifier.constants import * \n",
    "from src.cnnClassifier.utils.comman import read_yaml,create_directories,save_json "
   ]
  },
  {
   "cell_type": "code",
   "execution_count": 16,
   "id": "3089f6b2",
   "metadata": {},
   "outputs": [],
   "source": [
    "class ConfigurationManager:\n",
    "    def __init__(\n",
    "        self, \n",
    "        config_filepath = CONFIG_FILE_PATH,\n",
    "        params_filepath = PARAMS_FILE_PATH):\n",
    "        self.config = read_yaml(config_filepath)\n",
    "        self.params = read_yaml(params_filepath)\n",
    "        create_directories([self.config.artifacts_root])\n",
    "\n",
    "    \n",
    "    def get_evaluation_config(self) -> EvaluationConfig:\n",
    "        eval_config = EvaluationConfig(\n",
    "            path_of_model=\"artifacts/training/model.h5\",\n",
    "            training_data=\"artifacts/data_ingestion/kidney-ct-scan-image\",\n",
    "            mlflow_uri=\"https://dagshub.com/chavantushar08/project-dl-end-to-end-main.mlflow\",\n",
    "            all_params=self.params,\n",
    "            params_image_size=self.params.IMAGE_SIZE,\n",
    "            params_batch_size=self.params.BATCH_SIZE\n",
    "        )\n",
    "        return eval_config"
   ]
  },
  {
   "cell_type": "code",
   "execution_count": 18,
   "id": "8337bde0",
   "metadata": {},
   "outputs": [],
   "source": [
    "import tensorflow as tf \n",
    "from pathlib import Path \n",
    "import mlflow \n",
    "import mlflow.keras \n",
    "from urllib.parse import urlparse\n"
   ]
  },
  {
   "cell_type": "code",
   "execution_count": 19,
   "id": "b435be51",
   "metadata": {},
   "outputs": [],
   "source": [
    "# components"
   ]
  },
  {
   "cell_type": "code",
   "execution_count": 20,
   "id": "ab97ea4b",
   "metadata": {},
   "outputs": [],
   "source": [
    "class Evaluation:\n",
    "    def __init__(self, config: EvaluationConfig):\n",
    "        self.config = config\n",
    "\n",
    "    \n",
    "    def _valid_generator(self):\n",
    "\n",
    "        datagenerator_kwargs = dict(\n",
    "            rescale = 1./255,\n",
    "            validation_split=0.30\n",
    "        )\n",
    "\n",
    "        dataflow_kwargs = dict(\n",
    "            target_size=self.config.params_image_size[:-1],\n",
    "            batch_size=self.config.params_batch_size,\n",
    "            interpolation=\"bilinear\"\n",
    "        )\n",
    "\n",
    "        valid_datagenerator = tf.keras.preprocessing.image.ImageDataGenerator(\n",
    "            **datagenerator_kwargs\n",
    "        )\n",
    "\n",
    "        self.valid_generator = valid_datagenerator.flow_from_directory(\n",
    "            directory=self.config.training_data,\n",
    "            subset=\"validation\",\n",
    "            shuffle=False,\n",
    "            **dataflow_kwargs\n",
    "        )\n",
    "\n",
    "\n",
    "    @staticmethod\n",
    "    def load_model(path: Path) -> tf.keras.Model:\n",
    "        return tf.keras.models.load_model(path)\n",
    "    \n",
    "\n",
    "    def evaluation(self):\n",
    "        self.model = self.load_model(self.config.path_of_model)\n",
    "        self._valid_generator()\n",
    "        self.score = model.evaluate(self.valid_generator)\n",
    "        self.save_score()\n",
    "\n",
    "    def save_score(self):\n",
    "        scores = {\"loss\": self.score[0], \"accuracy\": self.score[1]}\n",
    "        save_json(path=Path(\"scores.json\"), data=scores)\n",
    "\n",
    "    \n",
    "    def log_into_mlflow(self):\n",
    "        mlflow.set_registry_uri(self.config.mlflow_uri)\n",
    "        tracking_url_type_store = urlparse(mlflow.get_tracking_uri()).scheme\n",
    "        \n",
    "        with mlflow.start_run():\n",
    "            mlflow.log_params(self.config.all_params)\n",
    "            mlflow.log_metrics(\n",
    "                {\"loss\": self.score[0], \"accuracy\": self.score[1]}\n",
    "            )\n",
    "            # Model registry does not work with file store\n",
    "            if tracking_url_type_store != \"file\":\n",
    "\n",
    "                # Register the model\n",
    "                # There are other ways to use the Model Registry, which depends on the use case,\n",
    "                # please refer to the doc for more information:\n",
    "                # https://mlflow.org/docs/latest/model-registry.html#api-workflow\n",
    "                mlflow.keras.log_model(self.model, \"model\", registered_model_name=\"VGG16Model\")\n",
    "            else:\n",
    "                mlflow.keras.log_model(self.model, \"model\")"
   ]
  },
  {
   "cell_type": "code",
   "execution_count": 21,
   "id": "8defd248",
   "metadata": {},
   "outputs": [],
   "source": [
    "# pipeline "
   ]
  },
  {
   "cell_type": "code",
   "execution_count": 22,
   "id": "105b1a9e",
   "metadata": {},
   "outputs": [
    {
     "name": "stderr",
     "output_type": "stream",
     "text": [
      "WARNING:absl:Compiled the loaded model, but the compiled metrics have yet to be built. `model.compile_metrics` will be empty until you train or evaluate the model.\n"
     ]
    },
    {
     "name": "stdout",
     "output_type": "stream",
     "text": [
      "Found 139 images belonging to 2 classes.\n"
     ]
    },
    {
     "name": "stderr",
     "output_type": "stream",
     "text": [
      "c:\\Users\\Tushar\\anaconda3\\envs\\kidney\\Lib\\site-packages\\keras\\src\\trainers\\data_adapters\\py_dataset_adapter.py:121: UserWarning: Your `PyDataset` class should call `super().__init__(**kwargs)` in its constructor. `**kwargs` can include `workers`, `use_multiprocessing`, `max_queue_size`. Do not pass these arguments to `fit()`, as they will be ignored.\n",
      "  self._warn_if_super_not_called()\n"
     ]
    },
    {
     "name": "stdout",
     "output_type": "stream",
     "text": [
      "\u001b[1m9/9\u001b[0m \u001b[32m━━━━━━━━━━━━━━━━━━━━\u001b[0m\u001b[37m\u001b[0m \u001b[1m12s\u001b[0m 1s/step - accuracy: 0.9827 - loss: 0.0677\n"
     ]
    },
    {
     "name": "stderr",
     "output_type": "stream",
     "text": [
      "2025/05/08 10:30:43 WARNING mlflow.keras.save: You are saving a Keras model without specifying model signature.\n",
      "2025/05/08 10:30:59 WARNING mlflow.utils.environment: Encountered an unexpected error while inferring pip requirements (model URI: C:\\Users\\Tushar\\AppData\\Local\\Temp\\tmpsksnwfm6\\model, flavor: keras). Fall back to return ['keras==3.9.2']. Set logging level to DEBUG to see the full traceback. \n",
      "Successfully registered model 'VGG16Model'.\n",
      "2025/05/08 10:32:24 INFO mlflow.store.model_registry.abstract_store: Waiting up to 300 seconds for model version to finish creation. Model name: VGG16Model, version 1\n",
      "Created version '1' of model 'VGG16Model'.\n"
     ]
    }
   ],
   "source": [
    "try:\n",
    "    config = ConfigurationManager()\n",
    "    eval_config = config.get_evaluation_config()\n",
    "    evaluation = Evaluation(eval_config)\n",
    "    evaluation.evaluation()\n",
    "    evaluation.log_into_mlflow()\n",
    "\n",
    "except Exception as e:\n",
    "   raise e"
   ]
  }
 ],
 "metadata": {
  "kernelspec": {
   "display_name": "kidney",
   "language": "python",
   "name": "python3"
  },
  "language_info": {
   "codemirror_mode": {
    "name": "ipython",
    "version": 3
   },
   "file_extension": ".py",
   "mimetype": "text/x-python",
   "name": "python",
   "nbconvert_exporter": "python",
   "pygments_lexer": "ipython3",
   "version": "3.12.9"
  }
 },
 "nbformat": 4,
 "nbformat_minor": 5
}
